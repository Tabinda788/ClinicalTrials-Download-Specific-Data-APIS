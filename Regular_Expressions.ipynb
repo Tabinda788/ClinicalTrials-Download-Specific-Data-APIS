{
  "nbformat": 4,
  "nbformat_minor": 0,
  "metadata": {
    "colab": {
      "name": "Regular_Expressions.ipynb",
      "provenance": []
    },
    "kernelspec": {
      "name": "python3",
      "display_name": "Python 3"
    },
    "language_info": {
      "name": "python"
    }
  },
  "cells": [
    {
      "cell_type": "code",
      "execution_count": null,
      "metadata": {
        "colab": {
          "base_uri": "https://localhost:8080/"
        },
        "id": "YlUN6Zn8XAIf",
        "outputId": "351ba0cc-8d93-47b7-acca-970c4eb5216b"
      },
      "outputs": [
        {
          "output_type": "stream",
          "name": "stdout",
          "text": [
            "True\n"
          ]
        }
      ],
      "source": [
        "# REGEX IN PYTHON\n",
        "s = 'foo123bar'\n",
        "print('123' in s)"
      ]
    },
    {
      "cell_type": "code",
      "source": [
        "# If you want to know not only whether '123' exists in s but also where it exists, \n",
        "# then you can use .find() or .index().\n",
        "#  Each of these returns the character position within s where the substring resides:\n",
        "print(s.find('123'))\n",
        "print(s.index('123'))"
      ],
      "metadata": {
        "colab": {
          "base_uri": "https://localhost:8080/"
        },
        "id": "ykA4ccE5XLXi",
        "outputId": "28cc7e27-dacf-4471-905c-ea00f2b04ba3"
      },
      "execution_count": null,
      "outputs": [
        {
          "output_type": "stream",
          "name": "stdout",
          "text": [
            "3\n",
            "3\n"
          ]
        }
      ]
    },
    {
      "cell_type": "code",
      "source": [
        "import re\n",
        "# For example, rather than searching for a fixed substring like '123',\n",
        "#  suppose you wanted to determine whether a string contains any three consecutive decimal \n",
        "# digit characters, as in the strings 'foo123bar', 'foo456bar', '234baz', and 'qux678'.\n",
        "\n",
        "# Strict character comparisons won’t cut it here. This is where regexes in Python \n",
        "# come to the rescue.\n",
        "s = 'foo123bar'\n",
        "print(re.search('123', s))\n",
        "\n",
        "if re.search('123', s):\n",
        "     print('Found a match.')\n",
        "else:\n",
        "     print('No match.')\n",
        "\n",
        "\n",
        "# span=(3, 6) indicates the portion of <string> in which the match was found. \n",
        "# This means the same thing as it would in slice notation:"
      ],
      "metadata": {
        "colab": {
          "base_uri": "https://localhost:8080/"
        },
        "id": "FWvtxzN6XTRb",
        "outputId": "c096e764-694d-49c5-a6cb-bd7924948bab"
      },
      "execution_count": null,
      "outputs": [
        {
          "output_type": "stream",
          "name": "stdout",
          "text": [
            "<re.Match object; span=(3, 6), match='123'>\n",
            "Found a match.\n"
          ]
        }
      ]
    },
    {
      "cell_type": "code",
      "source": [
        "print(s[3:6])"
      ],
      "metadata": {
        "colab": {
          "base_uri": "https://localhost:8080/"
        },
        "id": "L-zwDdjtXghr",
        "outputId": "0b8aca73-c403-459f-a60a-51d85785efe6"
      },
      "execution_count": null,
      "outputs": [
        {
          "output_type": "stream",
          "name": "stdout",
          "text": [
            "123\n"
          ]
        }
      ]
    },
    {
      "cell_type": "code",
      "source": [
        "print(re.search('[0-9][0-9][0-9]', 'foo456bar'))"
      ],
      "metadata": {
        "colab": {
          "base_uri": "https://localhost:8080/"
        },
        "id": "4krmqGEqXi8p",
        "outputId": "3867a288-34a4-4f3a-ba36-1de702659669"
      },
      "execution_count": null,
      "outputs": [
        {
          "output_type": "stream",
          "name": "stdout",
          "text": [
            "<re.Match object; span=(3, 6), match='456'>\n"
          ]
        }
      ]
    },
    {
      "cell_type": "code",
      "source": [
        "print(re.search('[0-9][0-9][0-9]', '234baz'))\n",
        "print(re.search('[0-9][0-9][0-9]', 'qux678'))\n",
        "print(print(re.search('[0-9][0-9][0-9]', '12foo34')))\n"
      ],
      "metadata": {
        "colab": {
          "base_uri": "https://localhost:8080/"
        },
        "id": "TSu8uvTCXmFX",
        "outputId": "e838a02e-91b1-48c1-ace6-f8c9e79053d8"
      },
      "execution_count": null,
      "outputs": [
        {
          "output_type": "stream",
          "name": "stdout",
          "text": [
            "<re.Match object; span=(0, 3), match='234'>\n",
            "<re.Match object; span=(3, 6), match='678'>\n",
            "None\n",
            "None\n"
          ]
        }
      ]
    },
    {
      "cell_type": "code",
      "source": [
        "# The dot (.) metacharacter matches any character except a newline, \n",
        "# so it functions like a wildcard\n",
        "s = 'foo123bar'\n",
        "print(re.search('1.3', s))\n",
        "\n",
        "\n",
        "s = 'foo13bar'\n",
        "print(re.search('1.3', s))"
      ],
      "metadata": {
        "colab": {
          "base_uri": "https://localhost:8080/"
        },
        "id": "iG-wUaDqXpBw",
        "outputId": "a733b742-1859-4618-a20f-e2a70222f16a"
      },
      "execution_count": null,
      "outputs": [
        {
          "output_type": "stream",
          "name": "stdout",
          "text": [
            "<re.Match object; span=(3, 6), match='123'>\n",
            "None\n"
          ]
        }
      ]
    },
    {
      "cell_type": "code",
      "source": [
        "re.search('ba[artz]', 'foobarqux')"
      ],
      "metadata": {
        "colab": {
          "base_uri": "https://localhost:8080/"
        },
        "id": "Zm0S5zahXuXi",
        "outputId": "aa306b7a-818f-43b2-a2a3-83fa5cc3b1bf"
      },
      "execution_count": null,
      "outputs": [
        {
          "output_type": "execute_result",
          "data": {
            "text/plain": [
              "<re.Match object; span=(3, 6), match='bar'>"
            ]
          },
          "metadata": {},
          "execution_count": 9
        }
      ]
    },
    {
      "cell_type": "code",
      "source": [
        "re.search('ba[artz]', 'foobazqux')"
      ],
      "metadata": {
        "colab": {
          "base_uri": "https://localhost:8080/"
        },
        "id": "n6zF6Ad_X1Qt",
        "outputId": "3f5c6abd-e5a1-42a3-85ba-0929ddc48a55"
      },
      "execution_count": null,
      "outputs": [
        {
          "output_type": "execute_result",
          "data": {
            "text/plain": [
              "<re.Match object; span=(3, 6), match='baz'>"
            ]
          },
          "metadata": {},
          "execution_count": 10
        }
      ]
    },
    {
      "cell_type": "code",
      "source": [
        "re.search('[a-z]', 'FOObar')"
      ],
      "metadata": {
        "colab": {
          "base_uri": "https://localhost:8080/"
        },
        "id": "e7VdwP2hX3xv",
        "outputId": "881e1e9f-7996-49cd-da2b-da77c115a8ab"
      },
      "execution_count": null,
      "outputs": [
        {
          "output_type": "execute_result",
          "data": {
            "text/plain": [
              "<re.Match object; span=(3, 4), match='b'>"
            ]
          },
          "metadata": {},
          "execution_count": 11
        }
      ]
    },
    {
      "cell_type": "code",
      "source": [
        "re.search('[0-9][0-9]', 'foo123bar')"
      ],
      "metadata": {
        "colab": {
          "base_uri": "https://localhost:8080/"
        },
        "id": "fxwSUdX3X6VY",
        "outputId": "06d8c5c8-4dd4-453f-a3b5-e35fa9bb2f2f"
      },
      "execution_count": null,
      "outputs": [
        {
          "output_type": "execute_result",
          "data": {
            "text/plain": [
              "<re.Match object; span=(3, 5), match='12'>"
            ]
          },
          "metadata": {},
          "execution_count": 12
        }
      ]
    },
    {
      "cell_type": "code",
      "source": [
        "# [0-9a-fA-F] matches any hexadecimal digit character:\n",
        "re.search('[0-9a-fA-f]', '--- a0 ---')"
      ],
      "metadata": {
        "colab": {
          "base_uri": "https://localhost:8080/"
        },
        "id": "UgiBHIX5X9D9",
        "outputId": "5e9ed8b2-7d7b-4178-c05a-4f24c5ac591b"
      },
      "execution_count": null,
      "outputs": [
        {
          "output_type": "execute_result",
          "data": {
            "text/plain": [
              "<re.Match object; span=(4, 5), match='a'>"
            ]
          },
          "metadata": {},
          "execution_count": 13
        }
      ]
    },
    {
      "cell_type": "code",
      "source": [
        "# [^0-9] matches any character that isn’t a digit:\n",
        "re.search('[^0-9]', '12345foo')"
      ],
      "metadata": {
        "colab": {
          "base_uri": "https://localhost:8080/"
        },
        "id": "B7laOXu9YIP0",
        "outputId": "601765f8-9f91-49b0-db44-94d57d3a55f9"
      },
      "execution_count": null,
      "outputs": [
        {
          "output_type": "execute_result",
          "data": {
            "text/plain": [
              "<re.Match object; span=(5, 6), match='f'>"
            ]
          },
          "metadata": {},
          "execution_count": 14
        }
      ]
    },
    {
      "cell_type": "code",
      "source": [
        "# If a ^ character appears in a character class but isn’t the first character,\n",
        "#  then it has no special meaning and matches a literal '^' character:\n",
        "re.search('[#:^]', 'foo^bar:baz#qux')\n",
        "\n"
      ],
      "metadata": {
        "colab": {
          "base_uri": "https://localhost:8080/"
        },
        "id": "HGWJPfBXYY-V",
        "outputId": "3e378a8a-3f9d-4cb2-8773-282f198a650e"
      },
      "execution_count": null,
      "outputs": [
        {
          "output_type": "execute_result",
          "data": {
            "text/plain": [
              "<re.Match object; span=(3, 4), match='^'>"
            ]
          },
          "metadata": {},
          "execution_count": 15
        }
      ]
    },
    {
      "cell_type": "code",
      "source": [
        "re.search('[-abc]', '123-456')\n"
      ],
      "metadata": {
        "colab": {
          "base_uri": "https://localhost:8080/"
        },
        "id": "BC1EpzLZYrnh",
        "outputId": "f7615fc2-ece5-40da-8a65-856e3ead26b7"
      },
      "execution_count": null,
      "outputs": [
        {
          "output_type": "execute_result",
          "data": {
            "text/plain": [
              "<re.Match object; span=(3, 4), match='-'>"
            ]
          },
          "metadata": {},
          "execution_count": 16
        }
      ]
    },
    {
      "cell_type": "code",
      "source": [
        "re.search('[abc-]', '123-456')"
      ],
      "metadata": {
        "colab": {
          "base_uri": "https://localhost:8080/"
        },
        "id": "ibaKIY7TanVt",
        "outputId": "6a7dc521-7463-4247-ae4a-95302b0d473c"
      },
      "execution_count": null,
      "outputs": [
        {
          "output_type": "execute_result",
          "data": {
            "text/plain": [
              "<re.Match object; span=(3, 4), match='-'>"
            ]
          },
          "metadata": {},
          "execution_count": 17
        }
      ]
    },
    {
      "cell_type": "code",
      "source": [
        "re.search('[ab\\-c]', '123-456')"
      ],
      "metadata": {
        "colab": {
          "base_uri": "https://localhost:8080/"
        },
        "id": "cCxSHEgWap-z",
        "outputId": "d427849b-9d57-4705-a19d-58a333b63c43"
      },
      "execution_count": null,
      "outputs": [
        {
          "output_type": "execute_result",
          "data": {
            "text/plain": [
              "<re.Match object; span=(3, 4), match='-'>"
            ]
          },
          "metadata": {},
          "execution_count": 18
        }
      ]
    },
    {
      "cell_type": "code",
      "source": [
        "re.search('[]]', 'foo[1]')"
      ],
      "metadata": {
        "colab": {
          "base_uri": "https://localhost:8080/"
        },
        "id": "viRr1V5basf0",
        "outputId": "a22f62ca-4507-4e63-8005-70d99241c45f"
      },
      "execution_count": null,
      "outputs": [
        {
          "output_type": "execute_result",
          "data": {
            "text/plain": [
              "<re.Match object; span=(5, 6), match=']'>"
            ]
          },
          "metadata": {},
          "execution_count": 19
        }
      ]
    },
    {
      "cell_type": "code",
      "source": [
        "re.search('[ab\\]cd]', 'foo[1]')"
      ],
      "metadata": {
        "colab": {
          "base_uri": "https://localhost:8080/"
        },
        "id": "bfkp7MTLa_9d",
        "outputId": "4a206738-b68b-4f45-b9e4-c930666cfeb2"
      },
      "execution_count": null,
      "outputs": [
        {
          "output_type": "execute_result",
          "data": {
            "text/plain": [
              "<re.Match object; span=(5, 6), match=']'>"
            ]
          },
          "metadata": {},
          "execution_count": 20
        }
      ]
    },
    {
      "cell_type": "code",
      "source": [
        "# Other regex metacharacters lose their special meaning inside a character class:\n",
        "re.search('[)*+|]', '123*456')"
      ],
      "metadata": {
        "colab": {
          "base_uri": "https://localhost:8080/"
        },
        "id": "1HwsKIm0bAZ9",
        "outputId": "a4c008d8-c128-467e-86c8-45e64579aabe"
      },
      "execution_count": null,
      "outputs": [
        {
          "output_type": "execute_result",
          "data": {
            "text/plain": [
              "<re.Match object; span=(3, 4), match='*'>"
            ]
          },
          "metadata": {},
          "execution_count": 21
        }
      ]
    },
    {
      "cell_type": "code",
      "source": [
        "re.search('[)*+|]', '123+456')"
      ],
      "metadata": {
        "colab": {
          "base_uri": "https://localhost:8080/"
        },
        "id": "7uEUKuxybYHg",
        "outputId": "c8b58a10-c553-4a3d-e080-c5e2f3ef9d37"
      },
      "execution_count": null,
      "outputs": [
        {
          "output_type": "execute_result",
          "data": {
            "text/plain": [
              "<re.Match object; span=(3, 4), match='+'>"
            ]
          },
          "metadata": {},
          "execution_count": 22
        }
      ]
    },
    {
      "cell_type": "code",
      "source": [
        "# The . metacharacter matches any single character except a newline:\n",
        "re.search('foo.bar', 'fooxbar')"
      ],
      "metadata": {
        "colab": {
          "base_uri": "https://localhost:8080/"
        },
        "id": "K17oxQDzbaSm",
        "outputId": "0dd370f5-1de2-41ca-c1e8-02aacef91a48"
      },
      "execution_count": null,
      "outputs": [
        {
          "output_type": "execute_result",
          "data": {
            "text/plain": [
              "<re.Match object; span=(0, 7), match='fooxbar'>"
            ]
          },
          "metadata": {},
          "execution_count": 23
        }
      ]
    },
    {
      "cell_type": "code",
      "source": [
        "print(re.search('foo.bar', 'foobar'))\n",
        "print(re.search('foo.bar', 'foo\\nbar'))"
      ],
      "metadata": {
        "colab": {
          "base_uri": "https://localhost:8080/"
        },
        "id": "JG3tFskvbsWJ",
        "outputId": "eb291fae-6493-4b11-8ebc-969ef2178911"
      },
      "execution_count": null,
      "outputs": [
        {
          "output_type": "stream",
          "name": "stdout",
          "text": [
            "None\n",
            "None\n"
          ]
        }
      ]
    },
    {
      "cell_type": "code",
      "source": [
        "# \\w matches any alphanumeric word character. Word characters are\n",
        "#  uppercase and lowercase letters, digits, and the underscore (_) character,\n",
        "#  so \\w is essentially shorthand for [a-zA-Z0-9_]:\n",
        "re.search('\\w', '#(.a$@&')"
      ],
      "metadata": {
        "colab": {
          "base_uri": "https://localhost:8080/"
        },
        "id": "VJiLClVAbyie",
        "outputId": "30fcd14d-1ae4-4fa8-8b13-542bc01afcef"
      },
      "execution_count": null,
      "outputs": [
        {
          "output_type": "execute_result",
          "data": {
            "text/plain": [
              "<re.Match object; span=(3, 4), match='a'>"
            ]
          },
          "metadata": {},
          "execution_count": 25
        }
      ]
    },
    {
      "cell_type": "code",
      "source": [
        "re.search('[a-zA-Z0-9_]', '#(.a$@&')"
      ],
      "metadata": {
        "colab": {
          "base_uri": "https://localhost:8080/"
        },
        "id": "Pace4LSGcpLb",
        "outputId": "86d82a6f-2656-468b-d34e-ee417e263f6f"
      },
      "execution_count": null,
      "outputs": [
        {
          "output_type": "execute_result",
          "data": {
            "text/plain": [
              "<re.Match object; span=(3, 4), match='a'>"
            ]
          },
          "metadata": {},
          "execution_count": 26
        }
      ]
    },
    {
      "cell_type": "code",
      "source": [
        "# \\W is the opposite. It matches any non-word character and is equivalent to [^a-zA-Z0-9_]:\n",
        "re.search('\\W', 'a_1*3Qb')"
      ],
      "metadata": {
        "colab": {
          "base_uri": "https://localhost:8080/"
        },
        "id": "mWFe49OIcrQq",
        "outputId": "77887600-9fa4-474b-dff3-543c1a86d535"
      },
      "execution_count": null,
      "outputs": [
        {
          "output_type": "execute_result",
          "data": {
            "text/plain": [
              "<re.Match object; span=(3, 4), match='*'>"
            ]
          },
          "metadata": {},
          "execution_count": 27
        }
      ]
    },
    {
      "cell_type": "code",
      "source": [
        "re.search('[^a-zA-Z0-9_]', 'a_1*3Qb')"
      ],
      "metadata": {
        "colab": {
          "base_uri": "https://localhost:8080/"
        },
        "id": "Gp_J334cc5m9",
        "outputId": "ef170a6c-4dc9-48ee-e4c7-eff801dc1621"
      },
      "execution_count": null,
      "outputs": [
        {
          "output_type": "execute_result",
          "data": {
            "text/plain": [
              "<re.Match object; span=(3, 4), match='*'>"
            ]
          },
          "metadata": {},
          "execution_count": 28
        }
      ]
    },
    {
      "cell_type": "code",
      "source": [
        "# \\d matches any decimal digit character. \\D is the opposite. It matches any character that isn’t a decimal digit:\n",
        "re.search('\\d', 'abc4def')"
      ],
      "metadata": {
        "colab": {
          "base_uri": "https://localhost:8080/"
        },
        "id": "scSKCpAIc8JA",
        "outputId": "efe036c8-6763-4892-ebf2-c4c122c25ab3"
      },
      "execution_count": null,
      "outputs": [
        {
          "output_type": "execute_result",
          "data": {
            "text/plain": [
              "<re.Match object; span=(3, 4), match='4'>"
            ]
          },
          "metadata": {},
          "execution_count": 29
        }
      ]
    },
    {
      "cell_type": "code",
      "source": [
        "# \\d is essentially equivalent to [0-9], and \\D is equivalent to [^0-9].\n",
        "re.search('\\D', '234Q678')"
      ],
      "metadata": {
        "colab": {
          "base_uri": "https://localhost:8080/"
        },
        "id": "MffBxdHudI01",
        "outputId": "dd6f1e7f-1f9f-4bdd-d6bb-e17ae8e495f4"
      },
      "execution_count": null,
      "outputs": [
        {
          "output_type": "execute_result",
          "data": {
            "text/plain": [
              "<re.Match object; span=(3, 4), match='Q'>"
            ]
          },
          "metadata": {},
          "execution_count": 30
        }
      ]
    },
    {
      "cell_type": "code",
      "source": [
        "# \\s matches any whitespace character:\n",
        "re.search('\\s', 'foo\\nbar baz')"
      ],
      "metadata": {
        "colab": {
          "base_uri": "https://localhost:8080/"
        },
        "id": "IXNi9XAodLI9",
        "outputId": "66ad69f3-c1fb-4c8a-c22b-edffb57c1ac5"
      },
      "execution_count": null,
      "outputs": [
        {
          "output_type": "execute_result",
          "data": {
            "text/plain": [
              "<re.Match object; span=(3, 4), match='\\n'>"
            ]
          },
          "metadata": {},
          "execution_count": 32
        }
      ]
    },
    {
      "cell_type": "code",
      "source": [
        "# \\S is the opposite of \\s. It matches any character that isn’t whitespace:\n",
        "re.search('\\S', '  \\n foo  \\n  ')"
      ],
      "metadata": {
        "colab": {
          "base_uri": "https://localhost:8080/"
        },
        "id": "7dGNIbuwdZ0C",
        "outputId": "ace16743-1c9c-4d20-c7b1-9dad04814df9"
      },
      "execution_count": null,
      "outputs": [
        {
          "output_type": "execute_result",
          "data": {
            "text/plain": [
              "<re.Match object; span=(4, 5), match='f'>"
            ]
          },
          "metadata": {},
          "execution_count": 33
        }
      ]
    },
    {
      "cell_type": "code",
      "source": [
        "# backslash (\\) Removes the special meaning of a metacharacter.\n",
        "print(re.search('.', 'foo.bar'))\n",
        "\n",
        "\n",
        "print(re.search('\\.', 'foo.bar'))"
      ],
      "metadata": {
        "colab": {
          "base_uri": "https://localhost:8080/"
        },
        "id": "y6wwBievdk8D",
        "outputId": "425c4dd9-2b28-4aec-ec2b-e510d58714c8"
      },
      "execution_count": null,
      "outputs": [
        {
          "output_type": "stream",
          "name": "stdout",
          "text": [
            "<re.Match object; span=(0, 1), match='f'>\n",
            "<re.Match object; span=(3, 4), match='.'>\n"
          ]
        }
      ]
    },
    {
      "cell_type": "code",
      "source": [
        "s = r'foo\\bar'\n",
        "print(s)"
      ],
      "metadata": {
        "colab": {
          "base_uri": "https://localhost:8080/"
        },
        "id": "5OhOxtnSf889",
        "outputId": "3d0e88fb-5794-4c65-fb62-d686c10b8d43"
      },
      "execution_count": null,
      "outputs": [
        {
          "output_type": "stream",
          "name": "stdout",
          "text": [
            "foo\\bar\n"
          ]
        }
      ]
    },
    {
      "cell_type": "code",
      "source": [
        "re.search('\\\\', s)"
      ],
      "metadata": {
        "colab": {
          "base_uri": "https://localhost:8080/",
          "height": 311
        },
        "id": "O33SHgQCg8GA",
        "outputId": "6f8d8450-1936-4969-d13a-955940890c6f"
      },
      "execution_count": null,
      "outputs": [
        {
          "output_type": "error",
          "ename": "error",
          "evalue": "ignored",
          "traceback": [
            "\u001b[0;31m---------------------------------------------------------------------------\u001b[0m",
            "\u001b[0;31merror\u001b[0m                                     Traceback (most recent call last)",
            "\u001b[0;32m<ipython-input-36-9674131d1684>\u001b[0m in \u001b[0;36m<module>\u001b[0;34m()\u001b[0m\n\u001b[0;32m----> 1\u001b[0;31m \u001b[0mre\u001b[0m\u001b[0;34m.\u001b[0m\u001b[0msearch\u001b[0m\u001b[0;34m(\u001b[0m\u001b[0;34m'\\\\'\u001b[0m\u001b[0;34m,\u001b[0m \u001b[0ms\u001b[0m\u001b[0;34m)\u001b[0m\u001b[0;34m\u001b[0m\u001b[0;34m\u001b[0m\u001b[0m\n\u001b[0m",
            "\u001b[0;32m/usr/lib/python3.7/re.py\u001b[0m in \u001b[0;36msearch\u001b[0;34m(pattern, string, flags)\u001b[0m\n\u001b[1;32m    183\u001b[0m     \"\"\"Scan through string looking for a match to the pattern, returning\n\u001b[1;32m    184\u001b[0m     a Match object, or None if no match was found.\"\"\"\n\u001b[0;32m--> 185\u001b[0;31m     \u001b[0;32mreturn\u001b[0m \u001b[0m_compile\u001b[0m\u001b[0;34m(\u001b[0m\u001b[0mpattern\u001b[0m\u001b[0;34m,\u001b[0m \u001b[0mflags\u001b[0m\u001b[0;34m)\u001b[0m\u001b[0;34m.\u001b[0m\u001b[0msearch\u001b[0m\u001b[0;34m(\u001b[0m\u001b[0mstring\u001b[0m\u001b[0;34m)\u001b[0m\u001b[0;34m\u001b[0m\u001b[0;34m\u001b[0m\u001b[0m\n\u001b[0m\u001b[1;32m    186\u001b[0m \u001b[0;34m\u001b[0m\u001b[0m\n\u001b[1;32m    187\u001b[0m \u001b[0;32mdef\u001b[0m \u001b[0msub\u001b[0m\u001b[0;34m(\u001b[0m\u001b[0mpattern\u001b[0m\u001b[0;34m,\u001b[0m \u001b[0mrepl\u001b[0m\u001b[0;34m,\u001b[0m \u001b[0mstring\u001b[0m\u001b[0;34m,\u001b[0m \u001b[0mcount\u001b[0m\u001b[0;34m=\u001b[0m\u001b[0;36m0\u001b[0m\u001b[0;34m,\u001b[0m \u001b[0mflags\u001b[0m\u001b[0;34m=\u001b[0m\u001b[0;36m0\u001b[0m\u001b[0;34m)\u001b[0m\u001b[0;34m:\u001b[0m\u001b[0;34m\u001b[0m\u001b[0;34m\u001b[0m\u001b[0m\n",
            "\u001b[0;32m/usr/lib/python3.7/re.py\u001b[0m in \u001b[0;36m_compile\u001b[0;34m(pattern, flags)\u001b[0m\n\u001b[1;32m    286\u001b[0m     \u001b[0;32mif\u001b[0m \u001b[0;32mnot\u001b[0m \u001b[0msre_compile\u001b[0m\u001b[0;34m.\u001b[0m\u001b[0misstring\u001b[0m\u001b[0;34m(\u001b[0m\u001b[0mpattern\u001b[0m\u001b[0;34m)\u001b[0m\u001b[0;34m:\u001b[0m\u001b[0;34m\u001b[0m\u001b[0;34m\u001b[0m\u001b[0m\n\u001b[1;32m    287\u001b[0m         \u001b[0;32mraise\u001b[0m \u001b[0mTypeError\u001b[0m\u001b[0;34m(\u001b[0m\u001b[0;34m\"first argument must be string or compiled pattern\"\u001b[0m\u001b[0;34m)\u001b[0m\u001b[0;34m\u001b[0m\u001b[0;34m\u001b[0m\u001b[0m\n\u001b[0;32m--> 288\u001b[0;31m     \u001b[0mp\u001b[0m \u001b[0;34m=\u001b[0m \u001b[0msre_compile\u001b[0m\u001b[0;34m.\u001b[0m\u001b[0mcompile\u001b[0m\u001b[0;34m(\u001b[0m\u001b[0mpattern\u001b[0m\u001b[0;34m,\u001b[0m \u001b[0mflags\u001b[0m\u001b[0;34m)\u001b[0m\u001b[0;34m\u001b[0m\u001b[0;34m\u001b[0m\u001b[0m\n\u001b[0m\u001b[1;32m    289\u001b[0m     \u001b[0;32mif\u001b[0m \u001b[0;32mnot\u001b[0m \u001b[0;34m(\u001b[0m\u001b[0mflags\u001b[0m \u001b[0;34m&\u001b[0m \u001b[0mDEBUG\u001b[0m\u001b[0;34m)\u001b[0m\u001b[0;34m:\u001b[0m\u001b[0;34m\u001b[0m\u001b[0;34m\u001b[0m\u001b[0m\n\u001b[1;32m    290\u001b[0m         \u001b[0;32mif\u001b[0m \u001b[0mlen\u001b[0m\u001b[0;34m(\u001b[0m\u001b[0m_cache\u001b[0m\u001b[0;34m)\u001b[0m \u001b[0;34m>=\u001b[0m \u001b[0m_MAXCACHE\u001b[0m\u001b[0;34m:\u001b[0m\u001b[0;34m\u001b[0m\u001b[0;34m\u001b[0m\u001b[0m\n",
            "\u001b[0;32m/usr/lib/python3.7/sre_compile.py\u001b[0m in \u001b[0;36mcompile\u001b[0;34m(p, flags)\u001b[0m\n\u001b[1;32m    762\u001b[0m     \u001b[0;32mif\u001b[0m \u001b[0misstring\u001b[0m\u001b[0;34m(\u001b[0m\u001b[0mp\u001b[0m\u001b[0;34m)\u001b[0m\u001b[0;34m:\u001b[0m\u001b[0;34m\u001b[0m\u001b[0;34m\u001b[0m\u001b[0m\n\u001b[1;32m    763\u001b[0m         \u001b[0mpattern\u001b[0m \u001b[0;34m=\u001b[0m \u001b[0mp\u001b[0m\u001b[0;34m\u001b[0m\u001b[0;34m\u001b[0m\u001b[0m\n\u001b[0;32m--> 764\u001b[0;31m         \u001b[0mp\u001b[0m \u001b[0;34m=\u001b[0m \u001b[0msre_parse\u001b[0m\u001b[0;34m.\u001b[0m\u001b[0mparse\u001b[0m\u001b[0;34m(\u001b[0m\u001b[0mp\u001b[0m\u001b[0;34m,\u001b[0m \u001b[0mflags\u001b[0m\u001b[0;34m)\u001b[0m\u001b[0;34m\u001b[0m\u001b[0;34m\u001b[0m\u001b[0m\n\u001b[0m\u001b[1;32m    765\u001b[0m     \u001b[0;32melse\u001b[0m\u001b[0;34m:\u001b[0m\u001b[0;34m\u001b[0m\u001b[0;34m\u001b[0m\u001b[0m\n\u001b[1;32m    766\u001b[0m         \u001b[0mpattern\u001b[0m \u001b[0;34m=\u001b[0m \u001b[0;32mNone\u001b[0m\u001b[0;34m\u001b[0m\u001b[0;34m\u001b[0m\u001b[0m\n",
            "\u001b[0;32m/usr/lib/python3.7/sre_parse.py\u001b[0m in \u001b[0;36mparse\u001b[0;34m(str, flags, pattern)\u001b[0m\n\u001b[1;32m    914\u001b[0m     \u001b[0;31m# parse 're' pattern into list of (opcode, argument) tuples\u001b[0m\u001b[0;34m\u001b[0m\u001b[0;34m\u001b[0m\u001b[0;34m\u001b[0m\u001b[0m\n\u001b[1;32m    915\u001b[0m \u001b[0;34m\u001b[0m\u001b[0m\n\u001b[0;32m--> 916\u001b[0;31m     \u001b[0msource\u001b[0m \u001b[0;34m=\u001b[0m \u001b[0mTokenizer\u001b[0m\u001b[0;34m(\u001b[0m\u001b[0mstr\u001b[0m\u001b[0;34m)\u001b[0m\u001b[0;34m\u001b[0m\u001b[0;34m\u001b[0m\u001b[0m\n\u001b[0m\u001b[1;32m    917\u001b[0m \u001b[0;34m\u001b[0m\u001b[0m\n\u001b[1;32m    918\u001b[0m     \u001b[0;32mif\u001b[0m \u001b[0mpattern\u001b[0m \u001b[0;32mis\u001b[0m \u001b[0;32mNone\u001b[0m\u001b[0;34m:\u001b[0m\u001b[0;34m\u001b[0m\u001b[0;34m\u001b[0m\u001b[0m\n",
            "\u001b[0;32m/usr/lib/python3.7/sre_parse.py\u001b[0m in \u001b[0;36m__init__\u001b[0;34m(self, string)\u001b[0m\n\u001b[1;32m    230\u001b[0m         \u001b[0mself\u001b[0m\u001b[0;34m.\u001b[0m\u001b[0mindex\u001b[0m \u001b[0;34m=\u001b[0m \u001b[0;36m0\u001b[0m\u001b[0;34m\u001b[0m\u001b[0;34m\u001b[0m\u001b[0m\n\u001b[1;32m    231\u001b[0m         \u001b[0mself\u001b[0m\u001b[0;34m.\u001b[0m\u001b[0mnext\u001b[0m \u001b[0;34m=\u001b[0m \u001b[0;32mNone\u001b[0m\u001b[0;34m\u001b[0m\u001b[0;34m\u001b[0m\u001b[0m\n\u001b[0;32m--> 232\u001b[0;31m         \u001b[0mself\u001b[0m\u001b[0;34m.\u001b[0m\u001b[0m__next\u001b[0m\u001b[0;34m(\u001b[0m\u001b[0;34m)\u001b[0m\u001b[0;34m\u001b[0m\u001b[0;34m\u001b[0m\u001b[0m\n\u001b[0m\u001b[1;32m    233\u001b[0m     \u001b[0;32mdef\u001b[0m \u001b[0m__next\u001b[0m\u001b[0;34m(\u001b[0m\u001b[0mself\u001b[0m\u001b[0;34m)\u001b[0m\u001b[0;34m:\u001b[0m\u001b[0;34m\u001b[0m\u001b[0;34m\u001b[0m\u001b[0m\n\u001b[1;32m    234\u001b[0m         \u001b[0mindex\u001b[0m \u001b[0;34m=\u001b[0m \u001b[0mself\u001b[0m\u001b[0;34m.\u001b[0m\u001b[0mindex\u001b[0m\u001b[0;34m\u001b[0m\u001b[0;34m\u001b[0m\u001b[0m\n",
            "\u001b[0;32m/usr/lib/python3.7/sre_parse.py\u001b[0m in \u001b[0;36m__next\u001b[0;34m(self)\u001b[0m\n\u001b[1;32m    244\u001b[0m             \u001b[0;32mexcept\u001b[0m \u001b[0mIndexError\u001b[0m\u001b[0;34m:\u001b[0m\u001b[0;34m\u001b[0m\u001b[0;34m\u001b[0m\u001b[0m\n\u001b[1;32m    245\u001b[0m                 raise error(\"bad escape (end of pattern)\",\n\u001b[0;32m--> 246\u001b[0;31m                             self.string, len(self.string) - 1) from None\n\u001b[0m\u001b[1;32m    247\u001b[0m         \u001b[0mself\u001b[0m\u001b[0;34m.\u001b[0m\u001b[0mindex\u001b[0m \u001b[0;34m=\u001b[0m \u001b[0mindex\u001b[0m \u001b[0;34m+\u001b[0m \u001b[0;36m1\u001b[0m\u001b[0;34m\u001b[0m\u001b[0;34m\u001b[0m\u001b[0m\n\u001b[1;32m    248\u001b[0m         \u001b[0mself\u001b[0m\u001b[0;34m.\u001b[0m\u001b[0mnext\u001b[0m \u001b[0;34m=\u001b[0m \u001b[0mchar\u001b[0m\u001b[0;34m\u001b[0m\u001b[0;34m\u001b[0m\u001b[0m\n",
            "\u001b[0;31merror\u001b[0m: bad escape (end of pattern) at position 0"
          ]
        }
      ]
    },
    {
      "cell_type": "code",
      "source": [
        "re.search(r'\\\\', s)"
      ],
      "metadata": {
        "colab": {
          "base_uri": "https://localhost:8080/"
        },
        "id": "jwdl9fjGhE5D",
        "outputId": "c1999136-9cfd-4885-ff57-80cd94197772"
      },
      "execution_count": null,
      "outputs": [
        {
          "output_type": "execute_result",
          "data": {
            "text/plain": [
              "<re.Match object; span=(3, 4), match='\\\\'>"
            ]
          },
          "metadata": {},
          "execution_count": 37
        }
      ]
    },
    {
      "cell_type": "code",
      "source": [
        "# regex ^foo stipulates that 'foo' must be present not just any old place in the search string, but at the beginning:\n",
        "re.search('^foo', 'foobar')"
      ],
      "metadata": {
        "colab": {
          "base_uri": "https://localhost:8080/"
        },
        "id": "lV1HE3hVho5L",
        "outputId": "3f9efcd9-7bf7-4af1-f225-489dd3c306cf"
      },
      "execution_count": null,
      "outputs": [
        {
          "output_type": "execute_result",
          "data": {
            "text/plain": [
              "<re.Match object; span=(0, 3), match='foo'>"
            ]
          },
          "metadata": {},
          "execution_count": 38
        }
      ]
    },
    {
      "cell_type": "code",
      "source": [
        "print(re.search('^foo', 'barfoo'))"
      ],
      "metadata": {
        "colab": {
          "base_uri": "https://localhost:8080/"
        },
        "id": "hO4Wc2IfiUtk",
        "outputId": "4d1584c0-5adc-46e7-a0b2-86af37e100c6"
      },
      "execution_count": null,
      "outputs": [
        {
          "output_type": "stream",
          "name": "stdout",
          "text": [
            "None\n"
          ]
        }
      ]
    },
    {
      "cell_type": "code",
      "source": [
        "re.search('\\Afoo', 'foobar')"
      ],
      "metadata": {
        "colab": {
          "base_uri": "https://localhost:8080/"
        },
        "id": "4o-Xf2XUiZVt",
        "outputId": "6375057b-7d03-49b7-e63b-a65e96893d88"
      },
      "execution_count": null,
      "outputs": [
        {
          "output_type": "execute_result",
          "data": {
            "text/plain": [
              "<re.Match object; span=(0, 3), match='foo'>"
            ]
          },
          "metadata": {},
          "execution_count": 40
        }
      ]
    },
    {
      "cell_type": "code",
      "source": [
        "print(re.search('\\Afoo', 'barfoo'))"
      ],
      "metadata": {
        "colab": {
          "base_uri": "https://localhost:8080/"
        },
        "id": "v-3HNlFoihkQ",
        "outputId": "8d750728-346d-47ef-8b15-fb9c732a757a"
      },
      "execution_count": null,
      "outputs": [
        {
          "output_type": "stream",
          "name": "stdout",
          "text": [
            "None\n"
          ]
        }
      ]
    },
    {
      "cell_type": "code",
      "source": [
        "# Whatever precedes $ or \\Z must constitute the end of the search string:\n",
        "re.search('bar$', 'foobar')"
      ],
      "metadata": {
        "colab": {
          "base_uri": "https://localhost:8080/"
        },
        "id": "mDMfZuJSii4s",
        "outputId": "dc00f11f-5921-460a-cae3-61c034a018f6"
      },
      "execution_count": null,
      "outputs": [
        {
          "output_type": "execute_result",
          "data": {
            "text/plain": [
              "<re.Match object; span=(3, 6), match='bar'>"
            ]
          },
          "metadata": {},
          "execution_count": 42
        }
      ]
    },
    {
      "cell_type": "code",
      "source": [
        "print(re.search('bar$', 'barfoo'))"
      ],
      "metadata": {
        "colab": {
          "base_uri": "https://localhost:8080/"
        },
        "id": "pmF-BJV-jHfH",
        "outputId": "4be0c0bb-638d-449b-b597-bfd1e616b05a"
      },
      "execution_count": null,
      "outputs": [
        {
          "output_type": "stream",
          "name": "stdout",
          "text": [
            "None\n"
          ]
        }
      ]
    },
    {
      "cell_type": "code",
      "source": [
        "re.search('bar\\Z', 'foobar')"
      ],
      "metadata": {
        "colab": {
          "base_uri": "https://localhost:8080/"
        },
        "id": "v7Rjkg57jNkH",
        "outputId": "9dcfc95e-e7bf-49a4-c617-9242ffe05ea1"
      },
      "execution_count": null,
      "outputs": [
        {
          "output_type": "execute_result",
          "data": {
            "text/plain": [
              "<re.Match object; span=(3, 6), match='bar'>"
            ]
          },
          "metadata": {},
          "execution_count": 44
        }
      ]
    },
    {
      "cell_type": "code",
      "source": [
        "print(re.search('bar\\Z', 'barfoo'))"
      ],
      "metadata": {
        "colab": {
          "base_uri": "https://localhost:8080/"
        },
        "id": "nzW8zIRrjuUu",
        "outputId": "84bcd5c4-29cf-4749-e2df-0c90f3fbf4f1"
      },
      "execution_count": null,
      "outputs": [
        {
          "output_type": "stream",
          "name": "stdout",
          "text": [
            "None\n"
          ]
        }
      ]
    },
    {
      "cell_type": "code",
      "source": [
        "# \\b Anchors a match to a word boundary.\n",
        "print(re.search(r'\\bbar', 'foo bar'))\n",
        "\n",
        "print(re.search(r'\\bbar', 'foo.bar'))\n",
        "\n",
        "\n",
        "print(re.search(r'\\bbar', 'foobar'))\n",
        "\n",
        "\n",
        "print(re.search(r'foo\\b', 'foo bar'))\n",
        "\n",
        "print(re.search(r'foo\\b', 'foo.bar'))\n",
        "\n",
        "print(re.search(r'foo\\b', 'foobar'))\n"
      ],
      "metadata": {
        "colab": {
          "base_uri": "https://localhost:8080/"
        },
        "id": "KIgVhQTEju5J",
        "outputId": "1a554723-7862-4f6a-f0c5-e70458f43255"
      },
      "execution_count": null,
      "outputs": [
        {
          "output_type": "stream",
          "name": "stdout",
          "text": [
            "<re.Match object; span=(4, 7), match='bar'>\n",
            "<re.Match object; span=(4, 7), match='bar'>\n",
            "None\n",
            "<re.Match object; span=(0, 3), match='foo'>\n",
            "<re.Match object; span=(0, 3), match='foo'>\n",
            "None\n"
          ]
        }
      ]
    },
    {
      "cell_type": "code",
      "source": [
        "re.search(r'\\bbar\\b', 'foo bar baz')\n"
      ],
      "metadata": {
        "colab": {
          "base_uri": "https://localhost:8080/"
        },
        "id": "9nL7Shw6nS5r",
        "outputId": "350060d0-da8e-4cf9-8ed0-fd9138379c59"
      },
      "execution_count": null,
      "outputs": [
        {
          "output_type": "execute_result",
          "data": {
            "text/plain": [
              "<re.Match object; span=(4, 7), match='bar'>"
            ]
          },
          "metadata": {},
          "execution_count": 47
        }
      ]
    },
    {
      "cell_type": "code",
      "source": [
        "re.search(r'\\bbar\\b', 'foo(bar)baz')"
      ],
      "metadata": {
        "colab": {
          "base_uri": "https://localhost:8080/"
        },
        "id": "zcdeWR8xng5m",
        "outputId": "24523c75-7e94-4faa-86d7-7835212dae14"
      },
      "execution_count": null,
      "outputs": [
        {
          "output_type": "execute_result",
          "data": {
            "text/plain": [
              "<re.Match object; span=(4, 7), match='bar'>"
            ]
          },
          "metadata": {},
          "execution_count": 48
        }
      ]
    },
    {
      "cell_type": "code",
      "source": [
        "print(re.search(r'\\bbar\\b', 'foobarbaz'))"
      ],
      "metadata": {
        "colab": {
          "base_uri": "https://localhost:8080/"
        },
        "id": "l1PwXoIrnhmG",
        "outputId": "106ec600-e4c0-4417-c9a8-31a4c02b4b63"
      },
      "execution_count": null,
      "outputs": [
        {
          "output_type": "stream",
          "name": "stdout",
          "text": [
            "None\n"
          ]
        }
      ]
    },
    {
      "cell_type": "code",
      "source": [
        "# a* matches zero or more 'a' characters. That means it would match an empty string, 'a', 'aa', 'aaa', and so on.\n",
        "re.search('foo-*bar', 'foobar')                     # Zero dashes"
      ],
      "metadata": {
        "colab": {
          "base_uri": "https://localhost:8080/"
        },
        "id": "m2-YFvHynkMf",
        "outputId": "334a961e-a823-4493-8a04-ff21bc8d78b7"
      },
      "execution_count": null,
      "outputs": [
        {
          "output_type": "execute_result",
          "data": {
            "text/plain": [
              "<re.Match object; span=(0, 6), match='foobar'>"
            ]
          },
          "metadata": {},
          "execution_count": 50
        }
      ]
    },
    {
      "cell_type": "code",
      "source": [
        "re.search('foo-*bar', 'foo-bar')                    # One dash"
      ],
      "metadata": {
        "colab": {
          "base_uri": "https://localhost:8080/"
        },
        "id": "I3YooGL7qY5s",
        "outputId": "176165f1-a115-4494-c8fb-8759d89b2392"
      },
      "execution_count": null,
      "outputs": [
        {
          "output_type": "execute_result",
          "data": {
            "text/plain": [
              "<re.Match object; span=(0, 7), match='foo-bar'>"
            ]
          },
          "metadata": {},
          "execution_count": 51
        }
      ]
    },
    {
      "cell_type": "code",
      "source": [
        "re.search('foo-*bar', 'foo--bar')                   # Two dashes"
      ],
      "metadata": {
        "colab": {
          "base_uri": "https://localhost:8080/"
        },
        "id": "mK91e-IkqblZ",
        "outputId": "d09ebbdc-99d6-47b0-dcd6-05c0bfd0183a"
      },
      "execution_count": null,
      "outputs": [
        {
          "output_type": "execute_result",
          "data": {
            "text/plain": [
              "<re.Match object; span=(0, 8), match='foo--bar'>"
            ]
          },
          "metadata": {},
          "execution_count": 52
        }
      ]
    },
    {
      "cell_type": "code",
      "source": [
        "# .* matches everything between 'foo' and 'bar':\n",
        "re.search('foo.*bar', '# foo $qux@grault % bar #')"
      ],
      "metadata": {
        "colab": {
          "base_uri": "https://localhost:8080/"
        },
        "id": "daExKba6qd09",
        "outputId": "c2c65884-da41-480b-8f3b-b514910159c3"
      },
      "execution_count": null,
      "outputs": [
        {
          "output_type": "execute_result",
          "data": {
            "text/plain": [
              "<re.Match object; span=(2, 23), match='foo $qux@grault % bar'>"
            ]
          },
          "metadata": {},
          "execution_count": 53
        }
      ]
    },
    {
      "cell_type": "code",
      "source": [
        "# This is similar to *, but the quantified regex must occur at least once:\n",
        "print(re.search('foo-+bar', 'foobar'))              # Zero dashes\n",
        "\n",
        "print(re.search('foo-+bar', 'foo-bar'))                 # One dash\n",
        "\n",
        "print(re.search('foo-+bar', 'foo--bar'))                # Two dashes\n"
      ],
      "metadata": {
        "colab": {
          "base_uri": "https://localhost:8080/"
        },
        "id": "tpjnqPwaudpJ",
        "outputId": "edb78ce9-ff5d-44eb-8c13-e35d25f925a0"
      },
      "execution_count": null,
      "outputs": [
        {
          "output_type": "stream",
          "name": "stdout",
          "text": [
            "None\n",
            "<re.Match object; span=(0, 7), match='foo-bar'>\n",
            "<re.Match object; span=(0, 8), match='foo--bar'>\n"
          ]
        }
      ]
    },
    {
      "cell_type": "code",
      "source": [
        "# Again, this is similar to * and +, but in this case there’s only a match if the preceding regex occurs once or not at all:\n",
        "print(re.search('foo-?bar', 'foobar'))                 # Zero dashes\n",
        "\n",
        "print(re.search('foo-?bar', 'foo-bar'))                   # One dash\n",
        "\n",
        "print(re.search('foo-?bar', 'foo--bar'))            # Two dashes"
      ],
      "metadata": {
        "colab": {
          "base_uri": "https://localhost:8080/"
        },
        "id": "58935tIAwQDh",
        "outputId": "9db26278-dbe1-4961-ded1-4a46ef32a11d"
      },
      "execution_count": null,
      "outputs": [
        {
          "output_type": "stream",
          "name": "stdout",
          "text": [
            "<re.Match object; span=(0, 6), match='foobar'>\n",
            "<re.Match object; span=(0, 7), match='foo-bar'>\n",
            "None\n"
          ]
        }
      ]
    },
    {
      "cell_type": "code",
      "source": [
        "print(re.match('foo[1-9]*bar', 'foobar'))\n",
        "\n",
        "print(re.match('foo[1-9]*bar', 'foo42bar'))\n",
        "\n",
        "\n",
        "print(re.match('foo[1-9]+bar', 'foobar'))\n",
        "\n",
        "print(re.match('foo[1-9]+bar', 'foo42bar'))\n",
        "\n",
        "\n",
        "print(re.match('foo[1-9]?bar', 'foobar'))\n",
        "\n",
        "print(re.match('foo[1-9]?bar', 'foo42bar'))"
      ],
      "metadata": {
        "colab": {
          "base_uri": "https://localhost:8080/"
        },
        "id": "bI1biHq2xooS",
        "outputId": "42aead7b-c1ac-41cf-bbb9-d457df545553"
      },
      "execution_count": null,
      "outputs": [
        {
          "output_type": "stream",
          "name": "stdout",
          "text": [
            "<re.Match object; span=(0, 6), match='foobar'>\n",
            "<re.Match object; span=(0, 8), match='foo42bar'>\n",
            "None\n",
            "<re.Match object; span=(0, 8), match='foo42bar'>\n",
            "<re.Match object; span=(0, 6), match='foobar'>\n",
            "None\n"
          ]
        }
      ]
    },
    {
      "cell_type": "code",
      "source": [
        "re.search('<.*>', '%<foo> <bar> <baz>%')"
      ],
      "metadata": {
        "colab": {
          "base_uri": "https://localhost:8080/"
        },
        "id": "WQeGPaiYy232",
        "outputId": "c13c1a3e-dd0e-4154-dcb7-d5d2ad08b4e3"
      },
      "execution_count": null,
      "outputs": [
        {
          "output_type": "execute_result",
          "data": {
            "text/plain": [
              "<re.Match object; span=(1, 18), match='<foo> <bar> <baz>'>"
            ]
          },
          "metadata": {},
          "execution_count": 57
        }
      ]
    },
    {
      "cell_type": "code",
      "source": [
        "re.search('<.*?>', '%<foo> <bar> <baz>%')"
      ],
      "metadata": {
        "colab": {
          "base_uri": "https://localhost:8080/"
        },
        "id": "TXDctZHQzQrV",
        "outputId": "ecbcede6-fca2-4c35-90de-9221f3871658"
      },
      "execution_count": null,
      "outputs": [
        {
          "output_type": "execute_result",
          "data": {
            "text/plain": [
              "<re.Match object; span=(1, 6), match='<foo>'>"
            ]
          },
          "metadata": {},
          "execution_count": 58
        }
      ]
    },
    {
      "cell_type": "code",
      "source": [
        "re.search('ba?', 'baaaa')"
      ],
      "metadata": {
        "colab": {
          "base_uri": "https://localhost:8080/"
        },
        "id": "3_HI1ruFzUMG",
        "outputId": "3aff556a-cbdc-4d38-d4e4-0b9a3cbbc7aa"
      },
      "execution_count": null,
      "outputs": [
        {
          "output_type": "execute_result",
          "data": {
            "text/plain": [
              "<re.Match object; span=(0, 2), match='ba'>"
            ]
          },
          "metadata": {},
          "execution_count": 59
        }
      ]
    },
    {
      "cell_type": "code",
      "source": [
        "re.search('ba??', 'baaaa')"
      ],
      "metadata": {
        "colab": {
          "base_uri": "https://localhost:8080/"
        },
        "id": "AmbauF-q1A5W",
        "outputId": "c0171077-a8e5-457f-e4a8-3bd9b7e7eb4c"
      },
      "execution_count": null,
      "outputs": [
        {
          "output_type": "execute_result",
          "data": {
            "text/plain": [
              "<re.Match object; span=(0, 1), match='b'>"
            ]
          },
          "metadata": {},
          "execution_count": 60
        }
      ]
    },
    {
      "cell_type": "code",
      "source": [
        "# {m} Matches exactly m repetitions of the preceding regex.\n",
        "print(re.search('x-{3}x', 'x--x'))                # Two dashes\n",
        "\n",
        "\n",
        "print(re.search('x-{3}x', 'x---x'))                   # Three dashes\n",
        "\n",
        "\n",
        "print(re.search('x-{3}x', 'x----x'))              # Four dashes"
      ],
      "metadata": {
        "colab": {
          "base_uri": "https://localhost:8080/"
        },
        "id": "hsYFW7Aj1BU0",
        "outputId": "98f51422-3df8-4c23-b7e4-9736e0f60fc5"
      },
      "execution_count": null,
      "outputs": [
        {
          "output_type": "stream",
          "name": "stdout",
          "text": [
            "None\n",
            "<re.Match object; span=(0, 5), match='x---x'>\n",
            "None\n"
          ]
        }
      ]
    },
    {
      "cell_type": "code",
      "source": [
        "# {m,n}  Matches any number of repetitions of the preceding regex from m to n, inclusive.\n",
        "\n",
        "for i in range(1, 6):\n",
        "    s = f\"x{'-' * i}x\"\n",
        "    print(f'{i}  {s:10}', re.search('x-{2,4}x', s))"
      ],
      "metadata": {
        "colab": {
          "base_uri": "https://localhost:8080/"
        },
        "id": "R4EcUQyZ1VIQ",
        "outputId": "e8353808-8321-4eed-f7dd-d00e88333a4b"
      },
      "execution_count": null,
      "outputs": [
        {
          "output_type": "stream",
          "name": "stdout",
          "text": [
            "1  x-x        None\n",
            "2  x--x       <re.Match object; span=(0, 4), match='x--x'>\n",
            "3  x---x      <re.Match object; span=(0, 5), match='x---x'>\n",
            "4  x----x     <re.Match object; span=(0, 6), match='x----x'>\n",
            "5  x-----x    None\n"
          ]
        }
      ]
    },
    {
      "cell_type": "code",
      "source": [
        "# In this case, a{3,5} produces the longest possible match, so it matches five 'a' characters.\n",
        "#  a{3,5}? produces the shortest match, so it matches three.\n",
        "print(re.search('a{3,5}', 'aaaaaaaa'))\n",
        "\n",
        "\n",
        "print(re.search('a{3,5}?', 'aaaaaaaa'))\n",
        "\n"
      ],
      "metadata": {
        "colab": {
          "base_uri": "https://localhost:8080/"
        },
        "id": "zOtjzz1d15Yl",
        "outputId": "a7d4bb4d-16cc-4a61-faf5-1e1e48f86298"
      },
      "execution_count": null,
      "outputs": [
        {
          "output_type": "stream",
          "name": "stdout",
          "text": [
            "<re.Match object; span=(0, 5), match='aaaaa'>\n",
            "<re.Match object; span=(0, 3), match='aaa'>\n"
          ]
        }
      ]
    },
    {
      "cell_type": "code",
      "source": [
        "# (<regex>)Defines a subexpression or group.\n",
        "print(re.search('(bar)', 'foo bar baz'))\n",
        "\n",
        "\n",
        "print(re.search('bar', 'foo bar baz'))"
      ],
      "metadata": {
        "colab": {
          "base_uri": "https://localhost:8080/"
        },
        "id": "3vd7FjKy26hr",
        "outputId": "2dfcbf0c-f9e7-4928-d92d-09483608c7d6"
      },
      "execution_count": null,
      "outputs": [
        {
          "output_type": "stream",
          "name": "stdout",
          "text": [
            "<re.Match object; span=(4, 7), match='bar'>\n",
            "<re.Match object; span=(4, 7), match='bar'>\n"
          ]
        }
      ]
    },
    {
      "cell_type": "code",
      "source": [
        "print(re.search('(ba[rz]){2,4}(qux)?', 'bazbarbazqux'))\n",
        "\n",
        "print(re.search('(ba[rz]){2,4}(qux)?', 'barbar'))\n"
      ],
      "metadata": {
        "colab": {
          "base_uri": "https://localhost:8080/"
        },
        "id": "VBoK-bUi4KnO",
        "outputId": "b185f5f4-fba0-4b4c-8e38-df022efd3acb"
      },
      "execution_count": null,
      "outputs": [
        {
          "output_type": "stream",
          "name": "stdout",
          "text": [
            "<re.Match object; span=(0, 12), match='bazbarbazqux'>\n",
            "<re.Match object; span=(0, 6), match='barbar'>\n"
          ]
        }
      ]
    },
    {
      "cell_type": "code",
      "source": [
        "print(re.search('(foo(bar)?)+(\\d\\d\\d)?', 'foofoobar'))\n",
        "\n",
        "print(re.search('(foo(bar)?)+(\\d\\d\\d)?', 'foofoobar123'))\n",
        "\n",
        "print(re.search('(foo(bar)?)+(\\d\\d\\d)?', 'foofoo123'))"
      ],
      "metadata": {
        "colab": {
          "base_uri": "https://localhost:8080/"
        },
        "id": "ALzu_gy16rxs",
        "outputId": "f0ce76c7-b57e-4b46-8cef-19a7e82738f1"
      },
      "execution_count": null,
      "outputs": [
        {
          "output_type": "stream",
          "name": "stdout",
          "text": [
            "<re.Match object; span=(0, 9), match='foofoobar'>\n",
            "<re.Match object; span=(0, 12), match='foofoobar123'>\n",
            "<re.Match object; span=(0, 9), match='foofoo123'>\n"
          ]
        }
      ]
    },
    {
      "cell_type": "code",
      "source": [
        "regex = r'(\\w+),\\1'\n",
        "\n",
        "m = re.search(regex, 'foo,foo')\n",
        "print(m)\n",
        "\n",
        "print(m.group(1))\n",
        "\n",
        "\n",
        "m = re.search(regex, 'qux,qux')\n",
        "print(m)\n",
        "\n",
        "print(m.group(1))\n",
        "\n",
        "\n",
        "m = re.search(regex, 'foo,qux')\n",
        "print(m)\n"
      ],
      "metadata": {
        "colab": {
          "base_uri": "https://localhost:8080/"
        },
        "id": "Rt0krHxS-PEV",
        "outputId": "fbf92890-f898-4f5a-b58c-6b8749cbd434"
      },
      "execution_count": null,
      "outputs": [
        {
          "output_type": "stream",
          "name": "stdout",
          "text": [
            "<re.Match object; span=(0, 7), match='foo,foo'>\n",
            "foo\n",
            "<re.Match object; span=(0, 7), match='qux,qux'>\n",
            "qux\n",
            "None\n"
          ]
        }
      ]
    },
    {
      "cell_type": "code",
      "source": [
        "\n",
        "m = re.search('(\\w+),(\\w+),(\\w+)', 'foo,quux,baz')\n",
        "print(m.groups())\n",
        "\n",
        "\n",
        "print(m.group(1, 2, 3))"
      ],
      "metadata": {
        "colab": {
          "base_uri": "https://localhost:8080/"
        },
        "id": "OdVzZySrD1uR",
        "outputId": "a3eb5a65-0cf7-4cfe-ff84-7601f3914367"
      },
      "execution_count": null,
      "outputs": [
        {
          "output_type": "stream",
          "name": "stdout",
          "text": [
            "('foo', 'quux', 'baz')\n",
            "('foo', 'quux', 'baz')\n"
          ]
        }
      ]
    },
    {
      "cell_type": "code",
      "source": [
        "# reference the matched group by its given symbolic <name> instead of by its number.\n",
        "m = re.search('(?P<w1>\\w+),(?P<w2>\\w+),(?P<w3>\\w+)', 'foo,quux,baz')\n",
        "print(m.groups())\n",
        "\n",
        "print(m.group('w1', 'w2', 'w3'))"
      ],
      "metadata": {
        "colab": {
          "base_uri": "https://localhost:8080/"
        },
        "id": "R89e6UnwEbD1",
        "outputId": "a700df0c-de6c-433b-8674-a112114af65e"
      },
      "execution_count": null,
      "outputs": [
        {
          "output_type": "stream",
          "name": "stdout",
          "text": [
            "('foo', 'quux', 'baz')\n",
            "('foo', 'quux', 'baz')\n"
          ]
        }
      ]
    },
    {
      "cell_type": "code",
      "source": [
        "import re\n",
        "# ^(###)? indicates that the search string optionally begins with '###'. If it does, \n",
        "# then the grouping parentheses around ### will create a group numbered 1. Otherwise, no such group will exist.\n",
        "# The next portion, foo, literally matches the string 'foo'.\n",
        "# Lastly, (?(1)bar|baz) matches against 'bar' if group 1 exists and 'baz' if it doesn’t.\n",
        "regex = r'^(###)?foo(?(1)bar|baz)'\n",
        "re.search(regex, '###foobar')\n",
        "print(re.search(regex, '###foobaz'))\n",
        "print(re.search(regex, 'foobar'))\n",
        "re.search(regex, 'foobaz')"
      ],
      "metadata": {
        "colab": {
          "base_uri": "https://localhost:8080/"
        },
        "id": "uRXFIhNlEumW",
        "outputId": "055f1c1e-c239-42c2-b663-8b1123c44790"
      },
      "execution_count": null,
      "outputs": [
        {
          "output_type": "stream",
          "name": "stdout",
          "text": [
            "None\n",
            "None\n"
          ]
        },
        {
          "output_type": "execute_result",
          "data": {
            "text/plain": [
              "<re.Match object; span=(0, 6), match='foobaz'>"
            ]
          },
          "metadata": {},
          "execution_count": 73
        }
      ]
    },
    {
      "cell_type": "code",
      "source": [
        "regex = r'^(?P<ch>\\W)?foo(?(ch)(?P=ch)|)$'\n",
        "print(re.search(regex, 'foo'))\n",
        "\n",
        "print(re.search(regex, '#foo#'))\n",
        "\n",
        "print(re.search(regex, '@foo@'))\n",
        "\n",
        "\n",
        "print(re.search(regex, '#foo'))\n",
        "\n",
        "print(re.search(regex, 'foo@'))\n",
        "\n",
        "print(re.search(regex, '#foo@'))\n",
        "\n",
        "print(re.search(regex, '@foo#'))\n"
      ],
      "metadata": {
        "colab": {
          "base_uri": "https://localhost:8080/"
        },
        "id": "UHPge_ldTdel",
        "outputId": "c264fbc8-392d-4593-ee04-0b3d8cfa1bbe"
      },
      "execution_count": null,
      "outputs": [
        {
          "output_type": "stream",
          "name": "stdout",
          "text": [
            "<re.Match object; span=(0, 3), match='foo'>\n",
            "<re.Match object; span=(0, 5), match='#foo#'>\n",
            "<re.Match object; span=(0, 5), match='@foo@'>\n",
            "None\n",
            "None\n",
            "None\n",
            "None\n"
          ]
        }
      ]
    },
    {
      "cell_type": "code",
      "source": [
        "# The lookahead assertion (?=[a-z]) specifies that what follows 'foo' must be a lowercase alphabetic character. \n",
        "# In this case, it’s the character 'b', so a match is found.\n",
        "print(re.search('foo(?=[a-z])', 'foobar'))\n",
        "print(re.search('foo(?=[a-z])', 'foo123'))"
      ],
      "metadata": {
        "colab": {
          "base_uri": "https://localhost:8080/"
        },
        "id": "dqFXauHoc_6c",
        "outputId": "c3af346d-af50-4e86-ca07-0ad3cdbdf19e"
      },
      "execution_count": null,
      "outputs": [
        {
          "output_type": "stream",
          "name": "stdout",
          "text": [
            "<re.Match object; span=(0, 3), match='foo'>\n",
            "None\n"
          ]
        }
      ]
    },
    {
      "cell_type": "markdown",
      "source": [
        "# Searching Functions"
      ],
      "metadata": {
        "id": "TUZUb4738DT8"
      }
    },
    {
      "cell_type": "code",
      "source": [
        "import re\n",
        "print(re.search(r'(\\d+)', 'foo123bar'))\n",
        "\n",
        "print(re.search(r'[a-z]+', '123FOO456', flags=re.IGNORECASE))\n",
        "\n",
        "\n",
        "print(re.search(r'\\d+', 'foo.bar'))"
      ],
      "metadata": {
        "id": "MjPPx34zdXud",
        "colab": {
          "base_uri": "https://localhost:8080/"
        },
        "outputId": "30537378-c0bb-422a-a5d1-d6962a2c01f8"
      },
      "execution_count": 2,
      "outputs": [
        {
          "output_type": "stream",
          "name": "stdout",
          "text": [
            "<re.Match object; span=(3, 6), match='123'>\n",
            "<re.Match object; span=(3, 6), match='FOO'>\n",
            "None\n"
          ]
        }
      ]
    },
    {
      "cell_type": "code",
      "source": [
        "print(re.search(r'\\d+', '123foobar'))\n",
        "\n",
        "print(re.search(r'\\d+', 'foo123bar'))\n",
        "\n",
        "\n",
        "print(re.match(r'\\d+', '123foobar'))\n",
        "\n",
        "print(re.match(r'\\d+', 'foo123bar'))"
      ],
      "metadata": {
        "colab": {
          "base_uri": "https://localhost:8080/"
        },
        "id": "ZSyaF8VO8VlB",
        "outputId": "bee079e6-8a70-474f-d0b4-3b4a731d1bc8"
      },
      "execution_count": 3,
      "outputs": [
        {
          "output_type": "stream",
          "name": "stdout",
          "text": [
            "<re.Match object; span=(0, 3), match='123'>\n",
            "<re.Match object; span=(3, 6), match='123'>\n",
            "<re.Match object; span=(0, 3), match='123'>\n",
            "None\n"
          ]
        }
      ]
    },
    {
      "cell_type": "code",
      "source": [
        "s = 'foo\\nbar\\nbaz'\n",
        "\n",
        "print(re.search('^foo', s))\n",
        "\n",
        "print(re.search('^bar', s, re.MULTILINE))\n"
      ],
      "metadata": {
        "colab": {
          "base_uri": "https://localhost:8080/"
        },
        "id": "37GhyUPO8m_a",
        "outputId": "90a41d3b-7bff-4600-a682-8b1afad4e1cd"
      },
      "execution_count": 4,
      "outputs": [
        {
          "output_type": "stream",
          "name": "stdout",
          "text": [
            "<re.Match object; span=(0, 3), match='foo'>\n",
            "<re.Match object; span=(4, 7), match='bar'>\n"
          ]
        }
      ]
    },
    {
      "cell_type": "code",
      "source": [
        "print(re.fullmatch(r'\\d+', '123foo'))\n",
        "\n",
        "print(re.fullmatch(r'\\d+', 'foo123'))\n",
        "\n",
        "print(re.fullmatch(r'\\d+', 'foo123bar'))\n",
        "\n",
        "print(re.fullmatch(r'\\d+', '123'))\n",
        "\n",
        "\n",
        "print(re.search(r'^\\d+$', '123'))"
      ],
      "metadata": {
        "colab": {
          "base_uri": "https://localhost:8080/"
        },
        "id": "LfIPJzZu8xNv",
        "outputId": "aac43cc8-f908-4832-b5ec-63f1af797c31"
      },
      "execution_count": 5,
      "outputs": [
        {
          "output_type": "stream",
          "name": "stdout",
          "text": [
            "None\n",
            "None\n",
            "None\n",
            "<re.Match object; span=(0, 3), match='123'>\n",
            "<re.Match object; span=(0, 3), match='123'>\n"
          ]
        }
      ]
    },
    {
      "cell_type": "code",
      "source": [
        "print(re.findall(r'#(\\w+)#', '#foo#.#bar#.#baz#'))"
      ],
      "metadata": {
        "colab": {
          "base_uri": "https://localhost:8080/"
        },
        "id": "UyCp2vbE89SD",
        "outputId": "fc54aaf1-931e-4ad0-e9c0-7dcffa8704e6"
      },
      "execution_count": 6,
      "outputs": [
        {
          "output_type": "stream",
          "name": "stdout",
          "text": [
            "['foo', 'bar', 'baz']\n"
          ]
        }
      ]
    },
    {
      "cell_type": "code",
      "source": [
        "print(re.findall(r'\\w+', '...foo,,,,bar:%$baz//|'))"
      ],
      "metadata": {
        "colab": {
          "base_uri": "https://localhost:8080/"
        },
        "id": "HZZkThM69BlW",
        "outputId": "210a8cb5-3b76-4834-f429-432827aa977d"
      },
      "execution_count": 7,
      "outputs": [
        {
          "output_type": "stream",
          "name": "stdout",
          "text": [
            "['foo', 'bar', 'baz']\n"
          ]
        }
      ]
    },
    {
      "cell_type": "code",
      "source": [
        "for i in re.finditer(r'\\w+', '...foo,,,,bar:%$baz//|'):\n",
        "    print(i)"
      ],
      "metadata": {
        "colab": {
          "base_uri": "https://localhost:8080/"
        },
        "id": "TFkAFqm69FMU",
        "outputId": "be36afb7-55eb-4d61-b739-5844ba08e872"
      },
      "execution_count": 8,
      "outputs": [
        {
          "output_type": "stream",
          "name": "stdout",
          "text": [
            "<re.Match object; span=(3, 6), match='foo'>\n",
            "<re.Match object; span=(10, 13), match='bar'>\n",
            "<re.Match object; span=(16, 19), match='baz'>\n"
          ]
        }
      ]
    },
    {
      "cell_type": "markdown",
      "source": [
        "# Substitution Functions"
      ],
      "metadata": {
        "id": "91HM-giz9OhP"
      }
    },
    {
      "cell_type": "code",
      "source": [
        "s = 'foo.123.bar.789.baz'\n",
        "\n",
        "print(re.sub(r'\\d+', '#', s))\n",
        "\n",
        "print(re.sub('[a-z]+', '(*)', s))"
      ],
      "metadata": {
        "colab": {
          "base_uri": "https://localhost:8080/"
        },
        "id": "TIhZ2yEl9Nw0",
        "outputId": "1e1e976e-8f8f-48df-b017-c1684f5006ca"
      },
      "execution_count": 9,
      "outputs": [
        {
          "output_type": "stream",
          "name": "stdout",
          "text": [
            "foo.#.bar.#.baz\n",
            "(*).123.(*).789.(*)\n"
          ]
        }
      ]
    },
    {
      "cell_type": "code",
      "source": [
        "print(re.sub(r'(\\w+),bar,baz,(\\w+)',\n",
        "       r'\\2,bar,baz,\\1',\n",
        "       'foo,bar,baz,qux'))"
      ],
      "metadata": {
        "colab": {
          "base_uri": "https://localhost:8080/"
        },
        "id": "xJXRBsKr9cI3",
        "outputId": "0c9ced80-ec9a-4b0c-b8a6-55c2e86b1b0a"
      },
      "execution_count": 10,
      "outputs": [
        {
          "output_type": "stream",
          "name": "stdout",
          "text": [
            "qux,bar,baz,foo\n"
          ]
        }
      ]
    },
    {
      "cell_type": "markdown",
      "source": [
        "# Substitution by Function"
      ],
      "metadata": {
        "id": "D9_wyERE9lHR"
      }
    },
    {
      "cell_type": "code",
      "source": [
        "def f(match_obj):\n",
        "    s = match_obj.group(0)  # The matching string\n",
        "    # print(s)\n",
        "\n",
        "    # s.isdigit() returns True if all characters in s are digits\n",
        "    if s.isdigit():\n",
        "        return str(int(s) * 10)\n",
        "    else:\n",
        "        return s.upper()\n",
        "\n",
        "re.sub(r'\\w+', f, 'foo.10.bar.20.baz.30')"
      ],
      "metadata": {
        "colab": {
          "base_uri": "https://localhost:8080/",
          "height": 140
        },
        "id": "d5r5gALi9f0n",
        "outputId": "856b82a2-9c60-4d7b-b0f7-d4031e17284a"
      },
      "execution_count": 11,
      "outputs": [
        {
          "output_type": "stream",
          "name": "stdout",
          "text": [
            "foo\n",
            "10\n",
            "bar\n",
            "20\n",
            "baz\n",
            "30\n"
          ]
        },
        {
          "output_type": "execute_result",
          "data": {
            "application/vnd.google.colaboratory.intrinsic+json": {
              "type": "string"
            },
            "text/plain": [
              "'FOO.100.BAR.200.BAZ.300'"
            ]
          },
          "metadata": {},
          "execution_count": 11
        }
      ]
    },
    {
      "cell_type": "markdown",
      "source": [
        "### In this example, f() gets called for each match. As a result, re.sub() converts each alphanumeric portion of <string> to all uppercase and multiplies each numeric portion by 10."
      ],
      "metadata": {
        "id": "9w5TQXPkA4Uk"
      }
    },
    {
      "cell_type": "code",
      "source": [
        "re.sub(r'\\w+', 'xxx', 'foo.bar.baz.qux')"
      ],
      "metadata": {
        "colab": {
          "base_uri": "https://localhost:8080/",
          "height": 35
        },
        "id": "65l4Q4noAFX4",
        "outputId": "f012f4f7-c549-4a14-c481-bd4b2ddf90df"
      },
      "execution_count": 12,
      "outputs": [
        {
          "output_type": "execute_result",
          "data": {
            "application/vnd.google.colaboratory.intrinsic+json": {
              "type": "string"
            },
            "text/plain": [
              "'xxx.xxx.xxx.xxx'"
            ]
          },
          "metadata": {},
          "execution_count": 12
        }
      ]
    },
    {
      "cell_type": "code",
      "source": [
        "re.sub(r'\\w+', 'xxx', 'foo.bar.baz.qux', count=2)"
      ],
      "metadata": {
        "colab": {
          "base_uri": "https://localhost:8080/",
          "height": 35
        },
        "id": "1qYpJIZGAtb2",
        "outputId": "8199fd1a-f4a2-44e1-a14e-5dfea6fe6141"
      },
      "execution_count": 13,
      "outputs": [
        {
          "output_type": "execute_result",
          "data": {
            "application/vnd.google.colaboratory.intrinsic+json": {
              "type": "string"
            },
            "text/plain": [
              "'xxx.xxx.baz.qux'"
            ]
          },
          "metadata": {},
          "execution_count": 13
        }
      ]
    },
    {
      "cell_type": "markdown",
      "source": [
        "# Utility Functions"
      ],
      "metadata": {
        "id": "0qRHH6hFA_fw"
      }
    },
    {
      "cell_type": "code",
      "source": [
        "re.split('\\s*[,;/]\\s*', 'foo,bar  ;  baz / qux')"
      ],
      "metadata": {
        "colab": {
          "base_uri": "https://localhost:8080/"
        },
        "id": "4ghKAwX_At0R",
        "outputId": "9518055d-22f1-44ce-9a77-88928837b53b"
      },
      "execution_count": 14,
      "outputs": [
        {
          "output_type": "execute_result",
          "data": {
            "text/plain": [
              "['foo', 'bar', 'baz', 'qux']"
            ]
          },
          "metadata": {},
          "execution_count": 14
        }
      ]
    },
    {
      "cell_type": "code",
      "source": [
        "re.split('(\\s*[,;/]\\s*)', 'foo,bar  ;  baz / qux')"
      ],
      "metadata": {
        "colab": {
          "base_uri": "https://localhost:8080/"
        },
        "id": "dp-nHJiYCS28",
        "outputId": "85132f08-e02f-42ad-945e-c7e71639b4b2"
      },
      "execution_count": 15,
      "outputs": [
        {
          "output_type": "execute_result",
          "data": {
            "text/plain": [
              "['foo', ',', 'bar', '  ;  ', 'baz', ' / ', 'qux']"
            ]
          },
          "metadata": {},
          "execution_count": 15
        }
      ]
    },
    {
      "cell_type": "code",
      "source": [
        "print(re.match('foo^bar(baz)|qux', 'foo^bar(baz)|qux'))\n",
        "print(re.match('foo\\^bar\\(baz\\)\\|qux', 'foo^bar(baz)|qux'))"
      ],
      "metadata": {
        "colab": {
          "base_uri": "https://localhost:8080/"
        },
        "id": "CJ0uKuecCgxm",
        "outputId": "bc1774b9-1eed-488a-90ef-f0973731624b"
      },
      "execution_count": 16,
      "outputs": [
        {
          "output_type": "stream",
          "name": "stdout",
          "text": [
            "None\n",
            "<re.Match object; span=(0, 16), match='foo^bar(baz)|qux'>\n"
          ]
        }
      ]
    },
    {
      "cell_type": "code",
      "source": [
        "re.escape('foo^bar(baz)|qux') == 'foo\\^bar\\(baz\\)\\|qux'"
      ],
      "metadata": {
        "colab": {
          "base_uri": "https://localhost:8080/"
        },
        "id": "rCih5-pqEi_1",
        "outputId": "cfaf954c-a763-4b1a-deca-efbd2e1c3d3d"
      },
      "execution_count": 17,
      "outputs": [
        {
          "output_type": "execute_result",
          "data": {
            "text/plain": [
              "True"
            ]
          },
          "metadata": {},
          "execution_count": 17
        }
      ]
    },
    {
      "cell_type": "code",
      "source": [
        "re.match(re.escape('foo^bar(baz)|qux'), 'foo^bar(baz)|qux')"
      ],
      "metadata": {
        "colab": {
          "base_uri": "https://localhost:8080/"
        },
        "id": "K238JqcaEsLS",
        "outputId": "7e6b53dd-3b1c-4a0f-ec7d-415a6b6c67a4"
      },
      "execution_count": 18,
      "outputs": [
        {
          "output_type": "execute_result",
          "data": {
            "text/plain": [
              "<re.Match object; span=(0, 16), match='foo^bar(baz)|qux'>"
            ]
          },
          "metadata": {},
          "execution_count": 18
        }
      ]
    },
    {
      "cell_type": "markdown",
      "source": [
        " # Compiled Regex Objects in Python"
      ],
      "metadata": {
        "id": "QtJvPEMOExHk"
      }
    },
    {
      "cell_type": "code",
      "source": [
        "re.search(r'(\\d+)', 'foo123bar')"
      ],
      "metadata": {
        "colab": {
          "base_uri": "https://localhost:8080/"
        },
        "id": "wUgffJ36Esre",
        "outputId": "18c83b57-b824-4688-a8d0-5d4fe7e24602"
      },
      "execution_count": 19,
      "outputs": [
        {
          "output_type": "execute_result",
          "data": {
            "text/plain": [
              "<re.Match object; span=(3, 6), match='123'>"
            ]
          },
          "metadata": {},
          "execution_count": 19
        }
      ]
    },
    {
      "cell_type": "code",
      "source": [
        "re_obj = re.compile(r'(\\d+)')"
      ],
      "metadata": {
        "id": "kZtFbTRsG1jA"
      },
      "execution_count": 20,
      "outputs": []
    },
    {
      "cell_type": "code",
      "source": [
        "re.search(re_obj, 'foo123bar')"
      ],
      "metadata": {
        "colab": {
          "base_uri": "https://localhost:8080/"
        },
        "id": "TL8-Z8YKG3_r",
        "outputId": "2772aa0b-fe67-48ad-9da4-5f59b9e1c26f"
      },
      "execution_count": 21,
      "outputs": [
        {
          "output_type": "execute_result",
          "data": {
            "text/plain": [
              "<re.Match object; span=(3, 6), match='123'>"
            ]
          },
          "metadata": {},
          "execution_count": 21
        }
      ]
    },
    {
      "cell_type": "code",
      "source": [
        "re_obj.search('foo123bar')"
      ],
      "metadata": {
        "colab": {
          "base_uri": "https://localhost:8080/"
        },
        "id": "VMGllWnYG4mG",
        "outputId": "315beb4e-12ff-4078-f88c-bc9c03969e60"
      },
      "execution_count": 22,
      "outputs": [
        {
          "output_type": "execute_result",
          "data": {
            "text/plain": [
              "<re.Match object; span=(3, 6), match='123'>"
            ]
          },
          "metadata": {},
          "execution_count": 22
        }
      ]
    },
    {
      "cell_type": "markdown",
      "source": [
        "# Why Bother Compiling a Regex?"
      ],
      "metadata": {
        "id": "y9i7QP5uIXBo"
      }
    },
    {
      "cell_type": "code",
      "source": [
        "s1, s2, s3, s4 = 'foo.bar', 'foo123bar', 'baz99', 'qux & grault'\n",
        "\n",
        "import re\n",
        "print(re.search('\\d+', s1))\n",
        "print(re.search('\\d+', s2))\n",
        "\n",
        "print(re.search('\\d+', s3))\n",
        "\n",
        "print(re.search('\\d+', s4))"
      ],
      "metadata": {
        "colab": {
          "base_uri": "https://localhost:8080/"
        },
        "id": "fDZBgmiZG9Ud",
        "outputId": "c8a914a0-b441-4571-ed1b-76cefcca11d0"
      },
      "execution_count": 23,
      "outputs": [
        {
          "output_type": "stream",
          "name": "stdout",
          "text": [
            "None\n",
            "<re.Match object; span=(3, 6), match='123'>\n",
            "<re.Match object; span=(3, 5), match='99'>\n",
            "None\n"
          ]
        }
      ]
    },
    {
      "cell_type": "code",
      "source": [
        "s1, s2, s3, s4 = 'foo.bar', 'foo123bar', 'baz99', 'qux & grault'\n",
        "regex = '\\d+'\n",
        "\n",
        "print(re.search(regex, s1))\n",
        "print(re.search(regex, s2))\n",
        "\n",
        "print(re.search(regex, s3))\n",
        "\n",
        "print(re.search(regex, s4))"
      ],
      "metadata": {
        "colab": {
          "base_uri": "https://localhost:8080/"
        },
        "id": "sbpbAsGFIkbI",
        "outputId": "6f90123c-b24a-4511-df4b-c41085216ae9"
      },
      "execution_count": 24,
      "outputs": [
        {
          "output_type": "stream",
          "name": "stdout",
          "text": [
            "None\n",
            "<re.Match object; span=(3, 6), match='123'>\n",
            "<re.Match object; span=(3, 5), match='99'>\n",
            "None\n"
          ]
        }
      ]
    },
    {
      "cell_type": "code",
      "source": [
        ""
      ],
      "metadata": {
        "id": "N0jqAZNyJIWs"
      },
      "execution_count": null,
      "outputs": []
    }
  ]
}